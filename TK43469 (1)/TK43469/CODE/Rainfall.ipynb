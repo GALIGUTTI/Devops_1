{
 "cells": [
  {
   "cell_type": "code",
   "execution_count": 1,
   "id": "fc1336d3",
   "metadata": {},
   "outputs": [],
   "source": [
    "import pandas as pd\n",
    "import numpy as np"
   ]
  },
  {
   "cell_type": "code",
   "execution_count": 2,
   "id": "96ee8128",
   "metadata": {},
   "outputs": [],
   "source": [
    "df = pd.read_csv("C:\\Users\\bhuva\\Downloads\\TK43469 (1)\\TK43469\\CODE\\upload\\rainfall.csv")
   ]
  },
  {
   "cell_type": "code",
   "execution_count": 3,
   "id": "20fb0dc4",
   "metadata": {},
   "outputs": [
    {
     "data": {
      "text/html": [
       "<div>\n",
       "<style scoped>\n",
       "    .dataframe tbody tr th:only-of-type {\n",
       "        vertical-align: middle;\n",
       "    }\n",
       "\n",
       "    .dataframe tbody tr th {\n",
       "        vertical-align: top;\n",
       "    }\n",
       "\n",
       "    .dataframe thead th {\n",
       "        text-align: right;\n",
       "    }\n",
       "</style>\n",
       "<table border=\"1\" class=\"dataframe\">\n",
       "  <thead>\n",
       "    <tr style=\"text-align: right;\">\n",
       "      <th></th>\n",
       "      <th>DIVISION</th>\n",
       "      <th>YEAR</th>\n",
       "      <th>JAN</th>\n",
       "      <th>FEB</th>\n",
       "      <th>MAR</th>\n",
       "      <th>APR</th>\n",
       "      <th>MAY</th>\n",
       "      <th>JUN</th>\n",
       "      <th>JUL</th>\n",
       "      <th>AUG</th>\n",
       "      <th>SEP</th>\n",
       "      <th>OCT</th>\n",
       "      <th>NOV</th>\n",
       "      <th>DEC</th>\n",
       "      <th>ANNUAL</th>\n",
       "      <th>Jan-Feb</th>\n",
       "      <th>Mar-May</th>\n",
       "      <th>Jun-Sep</th>\n",
       "      <th>Oct-Dec</th>\n",
       "    </tr>\n",
       "  </thead>\n",
       "  <tbody>\n",
       "    <tr>\n",
       "      <th>0</th>\n",
       "      <td>ANDAMAN &amp; NICOBAR ISLANDS</td>\n",
       "      <td>1901</td>\n",
       "      <td>49.2</td>\n",
       "      <td>87.1</td>\n",
       "      <td>29.2</td>\n",
       "      <td>2.3</td>\n",
       "      <td>528.8</td>\n",
       "      <td>517.5</td>\n",
       "      <td>365.1</td>\n",
       "      <td>481.1</td>\n",
       "      <td>332.6</td>\n",
       "      <td>388.5</td>\n",
       "      <td>558.2</td>\n",
       "      <td>33.6</td>\n",
       "      <td>3373.2</td>\n",
       "      <td>136.3</td>\n",
       "      <td>560.3</td>\n",
       "      <td>1696.3</td>\n",
       "      <td>980.3</td>\n",
       "    </tr>\n",
       "    <tr>\n",
       "      <th>1</th>\n",
       "      <td>ANDAMAN &amp; NICOBAR ISLANDS</td>\n",
       "      <td>1902</td>\n",
       "      <td>0.0</td>\n",
       "      <td>159.8</td>\n",
       "      <td>12.2</td>\n",
       "      <td>0.0</td>\n",
       "      <td>446.1</td>\n",
       "      <td>537.1</td>\n",
       "      <td>228.9</td>\n",
       "      <td>753.7</td>\n",
       "      <td>666.2</td>\n",
       "      <td>197.2</td>\n",
       "      <td>359.0</td>\n",
       "      <td>160.5</td>\n",
       "      <td>3520.7</td>\n",
       "      <td>159.8</td>\n",
       "      <td>458.3</td>\n",
       "      <td>2185.9</td>\n",
       "      <td>716.7</td>\n",
       "    </tr>\n",
       "    <tr>\n",
       "      <th>2</th>\n",
       "      <td>ANDAMAN &amp; NICOBAR ISLANDS</td>\n",
       "      <td>1903</td>\n",
       "      <td>12.7</td>\n",
       "      <td>144.0</td>\n",
       "      <td>0.0</td>\n",
       "      <td>1.0</td>\n",
       "      <td>235.1</td>\n",
       "      <td>479.9</td>\n",
       "      <td>728.4</td>\n",
       "      <td>326.7</td>\n",
       "      <td>339.0</td>\n",
       "      <td>181.2</td>\n",
       "      <td>284.4</td>\n",
       "      <td>225.0</td>\n",
       "      <td>2957.4</td>\n",
       "      <td>156.7</td>\n",
       "      <td>236.1</td>\n",
       "      <td>1874.0</td>\n",
       "      <td>690.6</td>\n",
       "    </tr>\n",
       "    <tr>\n",
       "      <th>3</th>\n",
       "      <td>ANDAMAN &amp; NICOBAR ISLANDS</td>\n",
       "      <td>1904</td>\n",
       "      <td>9.4</td>\n",
       "      <td>14.7</td>\n",
       "      <td>0.0</td>\n",
       "      <td>202.4</td>\n",
       "      <td>304.5</td>\n",
       "      <td>495.1</td>\n",
       "      <td>502.0</td>\n",
       "      <td>160.1</td>\n",
       "      <td>820.4</td>\n",
       "      <td>222.2</td>\n",
       "      <td>308.7</td>\n",
       "      <td>40.1</td>\n",
       "      <td>3079.6</td>\n",
       "      <td>24.1</td>\n",
       "      <td>506.9</td>\n",
       "      <td>1977.6</td>\n",
       "      <td>571.0</td>\n",
       "    </tr>\n",
       "    <tr>\n",
       "      <th>4</th>\n",
       "      <td>ANDAMAN &amp; NICOBAR ISLANDS</td>\n",
       "      <td>1905</td>\n",
       "      <td>1.3</td>\n",
       "      <td>0.0</td>\n",
       "      <td>3.3</td>\n",
       "      <td>26.9</td>\n",
       "      <td>279.5</td>\n",
       "      <td>628.7</td>\n",
       "      <td>368.7</td>\n",
       "      <td>330.5</td>\n",
       "      <td>297.0</td>\n",
       "      <td>260.7</td>\n",
       "      <td>25.4</td>\n",
       "      <td>344.7</td>\n",
       "      <td>2566.7</td>\n",
       "      <td>1.3</td>\n",
       "      <td>309.7</td>\n",
       "      <td>1624.9</td>\n",
       "      <td>630.8</td>\n",
       "    </tr>\n",
       "  </tbody>\n",
       "</table>\n",
       "</div>"
      ],
      "text/plain": [
       "                    DIVISION  YEAR   JAN    FEB   MAR    APR    MAY    JUN  \\\n",
       "0  ANDAMAN & NICOBAR ISLANDS  1901  49.2   87.1  29.2    2.3  528.8  517.5   \n",
       "1  ANDAMAN & NICOBAR ISLANDS  1902   0.0  159.8  12.2    0.0  446.1  537.1   \n",
       "2  ANDAMAN & NICOBAR ISLANDS  1903  12.7  144.0   0.0    1.0  235.1  479.9   \n",
       "3  ANDAMAN & NICOBAR ISLANDS  1904   9.4   14.7   0.0  202.4  304.5  495.1   \n",
       "4  ANDAMAN & NICOBAR ISLANDS  1905   1.3    0.0   3.3   26.9  279.5  628.7   \n",
       "\n",
       "     JUL    AUG    SEP    OCT    NOV    DEC  ANNUAL  Jan-Feb  Mar-May  \\\n",
       "0  365.1  481.1  332.6  388.5  558.2   33.6  3373.2    136.3    560.3   \n",
       "1  228.9  753.7  666.2  197.2  359.0  160.5  3520.7    159.8    458.3   \n",
       "2  728.4  326.7  339.0  181.2  284.4  225.0  2957.4    156.7    236.1   \n",
       "3  502.0  160.1  820.4  222.2  308.7   40.1  3079.6     24.1    506.9   \n",
       "4  368.7  330.5  297.0  260.7   25.4  344.7  2566.7      1.3    309.7   \n",
       "\n",
       "   Jun-Sep  Oct-Dec  \n",
       "0   1696.3    980.3  \n",
       "1   2185.9    716.7  \n",
       "2   1874.0    690.6  \n",
       "3   1977.6    571.0  \n",
       "4   1624.9    630.8  "
      ]
     },
     "execution_count": 3,
     "metadata": {},
     "output_type": "execute_result"
    }
   ],
   "source": [
    "df.head()"
   ]
  },
  {
   "cell_type": "code",
   "execution_count": 4,
   "id": "cb0df6ec",
   "metadata": {},
   "outputs": [
    {
     "data": {
      "text/plain": [
       "(4116, 19)"
      ]
     },
     "execution_count": 4,
     "metadata": {},
     "output_type": "execute_result"
    }
   ],
   "source": [
    "df.shape"
   ]
  },
  {
   "cell_type": "code",
   "execution_count": 5,
   "id": "4c0e2e6a",
   "metadata": {},
   "outputs": [
    {
     "data": {
      "text/plain": [
       "DIVISION\n",
       "WEST UTTAR PRADESH                    115\n",
       "EAST UTTAR PRADESH                    115\n",
       "JHARKHAND                             115\n",
       "JAMMU & KASHMIR                       115\n",
       "HIMACHAL PRADESH                      115\n",
       "HARYANA DELHI & CHANDIGARH            115\n",
       "GUJARAT REGION                        115\n",
       "GANGETIC WEST BENGAL                  115\n",
       "EAST RAJASTHAN                        115\n",
       "WEST RAJASTHAN                        115\n",
       "EAST MADHYA PRADESH                   115\n",
       "COASTAL KARNATAKA                     115\n",
       "COASTAL ANDHRA PRADESH                115\n",
       "CHHATTISGARH                          115\n",
       "BIHAR                                 115\n",
       "ASSAM & MEGHALAYA                     115\n",
       "KERALA                                115\n",
       "KONKAN & GOA                          115\n",
       "SOUTH INTERIOR KARNATAKA              115\n",
       "WEST MADHYA PRADESH                   115\n",
       "MATATHWADA                            115\n",
       "NAGA MANI MIZO TRIPURA                115\n",
       "NORTH INTERIOR KARNATAKA              115\n",
       "ORISSA                                115\n",
       "PUNJAB                                115\n",
       "RAYALSEEMA                            115\n",
       "SAURASHTRA & KUTCH                    115\n",
       "MADHYA MAHARASHTRA                    115\n",
       "SUB HIMALAYAN WEST BENGAL & SIKKIM    115\n",
       "TAMIL NADU                            115\n",
       "TELANGANA                             115\n",
       "UTTARAKHAND                           115\n",
       "VIDARBHA                              115\n",
       "LAKSHADWEEP                           114\n",
       "ANDAMAN & NICOBAR ISLANDS             110\n",
       "ARUNACHAL PRADESH                      97\n",
       "dtype: int64"
      ]
     },
     "execution_count": 5,
     "metadata": {},
     "output_type": "execute_result"
    }
   ],
   "source": [
    "df.value_counts('DIVISION')"
   ]
  },
  {
   "cell_type": "code",
   "execution_count": 6,
   "id": "0b643046",
   "metadata": {},
   "outputs": [
    {
     "data": {
      "text/plain": [
       "DIVISION     0\n",
       "YEAR         0\n",
       "JAN          4\n",
       "FEB          3\n",
       "MAR          6\n",
       "APR          4\n",
       "MAY          3\n",
       "JUN          5\n",
       "JUL          7\n",
       "AUG          4\n",
       "SEP          6\n",
       "OCT          7\n",
       "NOV         11\n",
       "DEC         10\n",
       "ANNUAL      26\n",
       "Jan-Feb      6\n",
       "Mar-May      9\n",
       "Jun-Sep     10\n",
       "Oct-Dec     13\n",
       "dtype: int64"
      ]
     },
     "execution_count": 6,
     "metadata": {},
     "output_type": "execute_result"
    }
   ],
   "source": [
    "df.isnull().sum()"
   ]
  },
  {
   "cell_type": "code",
   "execution_count": 7,
   "id": "1345bd89",
   "metadata": {},
   "outputs": [
    {
     "name": "stdout",
     "output_type": "stream",
     "text": [
      "<class 'pandas.core.frame.DataFrame'>\n",
      "RangeIndex: 4116 entries, 0 to 4115\n",
      "Data columns (total 19 columns):\n",
      " #   Column    Non-Null Count  Dtype  \n",
      "---  ------    --------------  -----  \n",
      " 0   DIVISION  4116 non-null   object \n",
      " 1   YEAR      4116 non-null   int64  \n",
      " 2   JAN       4112 non-null   float64\n",
      " 3   FEB       4113 non-null   float64\n",
      " 4   MAR       4110 non-null   float64\n",
      " 5   APR       4112 non-null   float64\n",
      " 6   MAY       4113 non-null   float64\n",
      " 7   JUN       4111 non-null   float64\n",
      " 8   JUL       4109 non-null   float64\n",
      " 9   AUG       4112 non-null   float64\n",
      " 10  SEP       4110 non-null   float64\n",
      " 11  OCT       4109 non-null   float64\n",
      " 12  NOV       4105 non-null   float64\n",
      " 13  DEC       4106 non-null   float64\n",
      " 14  ANNUAL    4090 non-null   float64\n",
      " 15  Jan-Feb   4110 non-null   float64\n",
      " 16  Mar-May   4107 non-null   float64\n",
      " 17  Jun-Sep   4106 non-null   float64\n",
      " 18  Oct-Dec   4103 non-null   float64\n",
      "dtypes: float64(17), int64(1), object(1)\n",
      "memory usage: 611.1+ KB\n"
     ]
    }
   ],
   "source": [
    "df.info()"
   ]
  },
  {
   "cell_type": "code",
   "execution_count": 8,
   "id": "89c1eb8c",
   "metadata": {},
   "outputs": [
    {
     "data": {
      "text/html": [
       "<div>\n",
       "<style scoped>\n",
       "    .dataframe tbody tr th:only-of-type {\n",
       "        vertical-align: middle;\n",
       "    }\n",
       "\n",
       "    .dataframe tbody tr th {\n",
       "        vertical-align: top;\n",
       "    }\n",
       "\n",
       "    .dataframe thead th {\n",
       "        text-align: right;\n",
       "    }\n",
       "</style>\n",
       "<table border=\"1\" class=\"dataframe\">\n",
       "  <thead>\n",
       "    <tr style=\"text-align: right;\">\n",
       "      <th></th>\n",
       "      <th>YEAR</th>\n",
       "      <th>JAN</th>\n",
       "      <th>FEB</th>\n",
       "      <th>MAR</th>\n",
       "      <th>APR</th>\n",
       "      <th>MAY</th>\n",
       "      <th>JUN</th>\n",
       "      <th>JUL</th>\n",
       "      <th>AUG</th>\n",
       "      <th>SEP</th>\n",
       "      <th>OCT</th>\n",
       "      <th>NOV</th>\n",
       "      <th>DEC</th>\n",
       "      <th>ANNUAL</th>\n",
       "      <th>Jan-Feb</th>\n",
       "      <th>Mar-May</th>\n",
       "      <th>Jun-Sep</th>\n",
       "      <th>Oct-Dec</th>\n",
       "    </tr>\n",
       "  </thead>\n",
       "  <tbody>\n",
       "    <tr>\n",
       "      <th>count</th>\n",
       "      <td>4116.000000</td>\n",
       "      <td>4112.000000</td>\n",
       "      <td>4113.000000</td>\n",
       "      <td>4110.000000</td>\n",
       "      <td>4112.000000</td>\n",
       "      <td>4113.000000</td>\n",
       "      <td>4111.000000</td>\n",
       "      <td>4109.000000</td>\n",
       "      <td>4112.000000</td>\n",
       "      <td>4110.000000</td>\n",
       "      <td>4109.000000</td>\n",
       "      <td>4105.000000</td>\n",
       "      <td>4106.000000</td>\n",
       "      <td>4090.000000</td>\n",
       "      <td>4110.000000</td>\n",
       "      <td>4107.000000</td>\n",
       "      <td>4106.000000</td>\n",
       "      <td>4103.000000</td>\n",
       "    </tr>\n",
       "    <tr>\n",
       "      <th>mean</th>\n",
       "      <td>1958.218659</td>\n",
       "      <td>18.957320</td>\n",
       "      <td>21.805325</td>\n",
       "      <td>27.359197</td>\n",
       "      <td>43.127432</td>\n",
       "      <td>85.745417</td>\n",
       "      <td>230.234444</td>\n",
       "      <td>347.214334</td>\n",
       "      <td>290.263497</td>\n",
       "      <td>197.361922</td>\n",
       "      <td>95.507009</td>\n",
       "      <td>39.866163</td>\n",
       "      <td>18.870580</td>\n",
       "      <td>1411.008900</td>\n",
       "      <td>40.747786</td>\n",
       "      <td>155.901753</td>\n",
       "      <td>1064.724769</td>\n",
       "      <td>154.100487</td>\n",
       "    </tr>\n",
       "    <tr>\n",
       "      <th>std</th>\n",
       "      <td>33.140898</td>\n",
       "      <td>33.585371</td>\n",
       "      <td>35.909488</td>\n",
       "      <td>46.959424</td>\n",
       "      <td>67.831168</td>\n",
       "      <td>123.234904</td>\n",
       "      <td>234.710758</td>\n",
       "      <td>269.539667</td>\n",
       "      <td>188.770477</td>\n",
       "      <td>135.408345</td>\n",
       "      <td>99.519134</td>\n",
       "      <td>68.685410</td>\n",
       "      <td>42.369611</td>\n",
       "      <td>903.846565</td>\n",
       "      <td>59.308277</td>\n",
       "      <td>201.316965</td>\n",
       "      <td>707.741531</td>\n",
       "      <td>166.942660</td>\n",
       "    </tr>\n",
       "    <tr>\n",
       "      <th>min</th>\n",
       "      <td>1901.000000</td>\n",
       "      <td>0.000000</td>\n",
       "      <td>0.000000</td>\n",
       "      <td>0.000000</td>\n",
       "      <td>0.000000</td>\n",
       "      <td>0.000000</td>\n",
       "      <td>0.400000</td>\n",
       "      <td>0.000000</td>\n",
       "      <td>0.000000</td>\n",
       "      <td>0.100000</td>\n",
       "      <td>0.000000</td>\n",
       "      <td>0.000000</td>\n",
       "      <td>0.000000</td>\n",
       "      <td>62.300000</td>\n",
       "      <td>0.000000</td>\n",
       "      <td>0.000000</td>\n",
       "      <td>57.400000</td>\n",
       "      <td>0.000000</td>\n",
       "    </tr>\n",
       "    <tr>\n",
       "      <th>25%</th>\n",
       "      <td>1930.000000</td>\n",
       "      <td>0.600000</td>\n",
       "      <td>0.600000</td>\n",
       "      <td>1.000000</td>\n",
       "      <td>3.000000</td>\n",
       "      <td>8.600000</td>\n",
       "      <td>70.350000</td>\n",
       "      <td>175.600000</td>\n",
       "      <td>155.975000</td>\n",
       "      <td>100.525000</td>\n",
       "      <td>14.600000</td>\n",
       "      <td>0.700000</td>\n",
       "      <td>0.100000</td>\n",
       "      <td>804.500000</td>\n",
       "      <td>4.100000</td>\n",
       "      <td>24.050000</td>\n",
       "      <td>573.850000</td>\n",
       "      <td>34.200000</td>\n",
       "    </tr>\n",
       "    <tr>\n",
       "      <th>50%</th>\n",
       "      <td>1958.000000</td>\n",
       "      <td>6.000000</td>\n",
       "      <td>6.700000</td>\n",
       "      <td>7.800000</td>\n",
       "      <td>15.700000</td>\n",
       "      <td>36.600000</td>\n",
       "      <td>138.700000</td>\n",
       "      <td>284.800000</td>\n",
       "      <td>259.400000</td>\n",
       "      <td>173.900000</td>\n",
       "      <td>65.200000</td>\n",
       "      <td>9.500000</td>\n",
       "      <td>3.000000</td>\n",
       "      <td>1121.300000</td>\n",
       "      <td>19.200000</td>\n",
       "      <td>74.800000</td>\n",
       "      <td>881.100000</td>\n",
       "      <td>98.200000</td>\n",
       "    </tr>\n",
       "    <tr>\n",
       "      <th>75%</th>\n",
       "      <td>1987.000000</td>\n",
       "      <td>22.200000</td>\n",
       "      <td>26.800000</td>\n",
       "      <td>31.300000</td>\n",
       "      <td>49.950000</td>\n",
       "      <td>97.200000</td>\n",
       "      <td>305.150000</td>\n",
       "      <td>418.400000</td>\n",
       "      <td>377.800000</td>\n",
       "      <td>265.800000</td>\n",
       "      <td>148.400000</td>\n",
       "      <td>46.100000</td>\n",
       "      <td>17.500000</td>\n",
       "      <td>1644.775000</td>\n",
       "      <td>50.375000</td>\n",
       "      <td>196.950000</td>\n",
       "      <td>1288.175000</td>\n",
       "      <td>213.500000</td>\n",
       "    </tr>\n",
       "    <tr>\n",
       "      <th>max</th>\n",
       "      <td>2015.000000</td>\n",
       "      <td>583.700000</td>\n",
       "      <td>403.500000</td>\n",
       "      <td>605.600000</td>\n",
       "      <td>595.100000</td>\n",
       "      <td>1168.600000</td>\n",
       "      <td>1609.900000</td>\n",
       "      <td>2362.800000</td>\n",
       "      <td>1664.600000</td>\n",
       "      <td>1222.000000</td>\n",
       "      <td>948.300000</td>\n",
       "      <td>648.900000</td>\n",
       "      <td>617.500000</td>\n",
       "      <td>6331.100000</td>\n",
       "      <td>699.500000</td>\n",
       "      <td>1745.800000</td>\n",
       "      <td>4536.900000</td>\n",
       "      <td>1252.500000</td>\n",
       "    </tr>\n",
       "  </tbody>\n",
       "</table>\n",
       "</div>"
      ],
      "text/plain": [
       "              YEAR          JAN          FEB          MAR          APR  \\\n",
       "count  4116.000000  4112.000000  4113.000000  4110.000000  4112.000000   \n",
       "mean   1958.218659    18.957320    21.805325    27.359197    43.127432   \n",
       "std      33.140898    33.585371    35.909488    46.959424    67.831168   \n",
       "min    1901.000000     0.000000     0.000000     0.000000     0.000000   \n",
       "25%    1930.000000     0.600000     0.600000     1.000000     3.000000   \n",
       "50%    1958.000000     6.000000     6.700000     7.800000    15.700000   \n",
       "75%    1987.000000    22.200000    26.800000    31.300000    49.950000   \n",
       "max    2015.000000   583.700000   403.500000   605.600000   595.100000   \n",
       "\n",
       "               MAY          JUN          JUL          AUG          SEP  \\\n",
       "count  4113.000000  4111.000000  4109.000000  4112.000000  4110.000000   \n",
       "mean     85.745417   230.234444   347.214334   290.263497   197.361922   \n",
       "std     123.234904   234.710758   269.539667   188.770477   135.408345   \n",
       "min       0.000000     0.400000     0.000000     0.000000     0.100000   \n",
       "25%       8.600000    70.350000   175.600000   155.975000   100.525000   \n",
       "50%      36.600000   138.700000   284.800000   259.400000   173.900000   \n",
       "75%      97.200000   305.150000   418.400000   377.800000   265.800000   \n",
       "max    1168.600000  1609.900000  2362.800000  1664.600000  1222.000000   \n",
       "\n",
       "               OCT          NOV          DEC       ANNUAL      Jan-Feb  \\\n",
       "count  4109.000000  4105.000000  4106.000000  4090.000000  4110.000000   \n",
       "mean     95.507009    39.866163    18.870580  1411.008900    40.747786   \n",
       "std      99.519134    68.685410    42.369611   903.846565    59.308277   \n",
       "min       0.000000     0.000000     0.000000    62.300000     0.000000   \n",
       "25%      14.600000     0.700000     0.100000   804.500000     4.100000   \n",
       "50%      65.200000     9.500000     3.000000  1121.300000    19.200000   \n",
       "75%     148.400000    46.100000    17.500000  1644.775000    50.375000   \n",
       "max     948.300000   648.900000   617.500000  6331.100000   699.500000   \n",
       "\n",
       "           Mar-May      Jun-Sep      Oct-Dec  \n",
       "count  4107.000000  4106.000000  4103.000000  \n",
       "mean    155.901753  1064.724769   154.100487  \n",
       "std     201.316965   707.741531   166.942660  \n",
       "min       0.000000    57.400000     0.000000  \n",
       "25%      24.050000   573.850000    34.200000  \n",
       "50%      74.800000   881.100000    98.200000  \n",
       "75%     196.950000  1288.175000   213.500000  \n",
       "max    1745.800000  4536.900000  1252.500000  "
      ]
     },
     "execution_count": 8,
     "metadata": {},
     "output_type": "execute_result"
    }
   ],
   "source": [
    "df.describe()"
   ]
  },
  {
   "cell_type": "code",
   "execution_count": 9,
   "id": "f6cd2921",
   "metadata": {},
   "outputs": [],
   "source": [
    "df= df.fillna(df.median()) "
   ]
  },
  {
   "cell_type": "code",
   "execution_count": 10,
   "id": "0b61cc1f",
   "metadata": {},
   "outputs": [
    {
     "data": {
      "text/plain": [
       "DIVISION    0\n",
       "YEAR        0\n",
       "JAN         0\n",
       "FEB         0\n",
       "MAR         0\n",
       "APR         0\n",
       "MAY         0\n",
       "JUN         0\n",
       "JUL         0\n",
       "AUG         0\n",
       "SEP         0\n",
       "OCT         0\n",
       "NOV         0\n",
       "DEC         0\n",
       "ANNUAL      0\n",
       "Jan-Feb     0\n",
       "Mar-May     0\n",
       "Jun-Sep     0\n",
       "Oct-Dec     0\n",
       "dtype: int64"
      ]
     },
     "execution_count": 10,
     "metadata": {},
     "output_type": "execute_result"
    }
   ],
   "source": [
    "df.isnull().sum()"
   ]
  },
  {
   "cell_type": "code",
   "execution_count": 11,
   "id": "690f773a",
   "metadata": {},
   "outputs": [
    {
     "data": {
      "text/plain": [
       "Index(['DIVISION', 'YEAR', 'JAN', 'FEB', 'MAR', 'APR', 'MAY', 'JUN', 'JUL',\n",
       "       'AUG', 'SEP', 'OCT', 'NOV', 'DEC', 'ANNUAL', 'Jan-Feb', 'Mar-May',\n",
       "       'Jun-Sep', 'Oct-Dec'],\n",
       "      dtype='object')"
      ]
     },
     "execution_count": 11,
     "metadata": {},
     "output_type": "execute_result"
    }
   ],
   "source": [
    "df.columns"
   ]
  },
  {
   "cell_type": "code",
   "execution_count": 12,
   "id": "f31852b6",
   "metadata": {},
   "outputs": [],
   "source": [
    "df.drop(['Jan-Feb','Mar-May', 'Jun-Sep', 'Oct-Dec'], axis=1, inplace=True)"
   ]
  },
  {
   "cell_type": "code",
   "execution_count": 13,
   "id": "aed24638",
   "metadata": {
    "scrolled": true
   },
   "outputs": [
    {
     "data": {
      "text/html": [
       "<div>\n",
       "<style scoped>\n",
       "    .dataframe tbody tr th:only-of-type {\n",
       "        vertical-align: middle;\n",
       "    }\n",
       "\n",
       "    .dataframe tbody tr th {\n",
       "        vertical-align: top;\n",
       "    }\n",
       "\n",
       "    .dataframe thead th {\n",
       "        text-align: right;\n",
       "    }\n",
       "</style>\n",
       "<table border=\"1\" class=\"dataframe\">\n",
       "  <thead>\n",
       "    <tr style=\"text-align: right;\">\n",
       "      <th></th>\n",
       "      <th>DIVISION</th>\n",
       "      <th>YEAR</th>\n",
       "      <th>JAN</th>\n",
       "      <th>FEB</th>\n",
       "      <th>MAR</th>\n",
       "      <th>APR</th>\n",
       "      <th>MAY</th>\n",
       "      <th>JUN</th>\n",
       "      <th>JUL</th>\n",
       "      <th>AUG</th>\n",
       "      <th>SEP</th>\n",
       "      <th>OCT</th>\n",
       "      <th>NOV</th>\n",
       "      <th>DEC</th>\n",
       "      <th>ANNUAL</th>\n",
       "    </tr>\n",
       "  </thead>\n",
       "  <tbody>\n",
       "    <tr>\n",
       "      <th>0</th>\n",
       "      <td>ANDAMAN &amp; NICOBAR ISLANDS</td>\n",
       "      <td>1901</td>\n",
       "      <td>49.2</td>\n",
       "      <td>87.1</td>\n",
       "      <td>29.2</td>\n",
       "      <td>2.3</td>\n",
       "      <td>528.8</td>\n",
       "      <td>517.5</td>\n",
       "      <td>365.1</td>\n",
       "      <td>481.1</td>\n",
       "      <td>332.6</td>\n",
       "      <td>388.5</td>\n",
       "      <td>558.2</td>\n",
       "      <td>33.6</td>\n",
       "      <td>3373.2</td>\n",
       "    </tr>\n",
       "    <tr>\n",
       "      <th>1</th>\n",
       "      <td>ANDAMAN &amp; NICOBAR ISLANDS</td>\n",
       "      <td>1902</td>\n",
       "      <td>0.0</td>\n",
       "      <td>159.8</td>\n",
       "      <td>12.2</td>\n",
       "      <td>0.0</td>\n",
       "      <td>446.1</td>\n",
       "      <td>537.1</td>\n",
       "      <td>228.9</td>\n",
       "      <td>753.7</td>\n",
       "      <td>666.2</td>\n",
       "      <td>197.2</td>\n",
       "      <td>359.0</td>\n",
       "      <td>160.5</td>\n",
       "      <td>3520.7</td>\n",
       "    </tr>\n",
       "    <tr>\n",
       "      <th>2</th>\n",
       "      <td>ANDAMAN &amp; NICOBAR ISLANDS</td>\n",
       "      <td>1903</td>\n",
       "      <td>12.7</td>\n",
       "      <td>144.0</td>\n",
       "      <td>0.0</td>\n",
       "      <td>1.0</td>\n",
       "      <td>235.1</td>\n",
       "      <td>479.9</td>\n",
       "      <td>728.4</td>\n",
       "      <td>326.7</td>\n",
       "      <td>339.0</td>\n",
       "      <td>181.2</td>\n",
       "      <td>284.4</td>\n",
       "      <td>225.0</td>\n",
       "      <td>2957.4</td>\n",
       "    </tr>\n",
       "    <tr>\n",
       "      <th>3</th>\n",
       "      <td>ANDAMAN &amp; NICOBAR ISLANDS</td>\n",
       "      <td>1904</td>\n",
       "      <td>9.4</td>\n",
       "      <td>14.7</td>\n",
       "      <td>0.0</td>\n",
       "      <td>202.4</td>\n",
       "      <td>304.5</td>\n",
       "      <td>495.1</td>\n",
       "      <td>502.0</td>\n",
       "      <td>160.1</td>\n",
       "      <td>820.4</td>\n",
       "      <td>222.2</td>\n",
       "      <td>308.7</td>\n",
       "      <td>40.1</td>\n",
       "      <td>3079.6</td>\n",
       "    </tr>\n",
       "    <tr>\n",
       "      <th>4</th>\n",
       "      <td>ANDAMAN &amp; NICOBAR ISLANDS</td>\n",
       "      <td>1905</td>\n",
       "      <td>1.3</td>\n",
       "      <td>0.0</td>\n",
       "      <td>3.3</td>\n",
       "      <td>26.9</td>\n",
       "      <td>279.5</td>\n",
       "      <td>628.7</td>\n",
       "      <td>368.7</td>\n",
       "      <td>330.5</td>\n",
       "      <td>297.0</td>\n",
       "      <td>260.7</td>\n",
       "      <td>25.4</td>\n",
       "      <td>344.7</td>\n",
       "      <td>2566.7</td>\n",
       "    </tr>\n",
       "  </tbody>\n",
       "</table>\n",
       "</div>"
      ],
      "text/plain": [
       "                    DIVISION  YEAR   JAN    FEB   MAR    APR    MAY    JUN  \\\n",
       "0  ANDAMAN & NICOBAR ISLANDS  1901  49.2   87.1  29.2    2.3  528.8  517.5   \n",
       "1  ANDAMAN & NICOBAR ISLANDS  1902   0.0  159.8  12.2    0.0  446.1  537.1   \n",
       "2  ANDAMAN & NICOBAR ISLANDS  1903  12.7  144.0   0.0    1.0  235.1  479.9   \n",
       "3  ANDAMAN & NICOBAR ISLANDS  1904   9.4   14.7   0.0  202.4  304.5  495.1   \n",
       "4  ANDAMAN & NICOBAR ISLANDS  1905   1.3    0.0   3.3   26.9  279.5  628.7   \n",
       "\n",
       "     JUL    AUG    SEP    OCT    NOV    DEC  ANNUAL  \n",
       "0  365.1  481.1  332.6  388.5  558.2   33.6  3373.2  \n",
       "1  228.9  753.7  666.2  197.2  359.0  160.5  3520.7  \n",
       "2  728.4  326.7  339.0  181.2  284.4  225.0  2957.4  \n",
       "3  502.0  160.1  820.4  222.2  308.7   40.1  3079.6  \n",
       "4  368.7  330.5  297.0  260.7   25.4  344.7  2566.7  "
      ]
     },
     "execution_count": 13,
     "metadata": {},
     "output_type": "execute_result"
    }
   ],
   "source": [
    "df.head()"
   ]
  },
  {
   "cell_type": "code",
   "execution_count": 14,
   "id": "0dfe221a",
   "metadata": {},
   "outputs": [],
   "source": [
    "cols= df.iloc[:,2:14].columns"
   ]
  },
  {
   "cell_type": "code",
   "execution_count": 15,
   "id": "27ffde9d",
   "metadata": {},
   "outputs": [],
   "source": [
    "from sklearn.preprocessing import LabelEncoder\n",
    "le= LabelEncoder()"
   ]
  },
  {
   "cell_type": "code",
   "execution_count": 16,
   "id": "559a3960",
   "metadata": {},
   "outputs": [],
   "source": [
    "df['DIVISION']= le.fit_transform(df['DIVISION'])"
   ]
  },
  {
   "cell_type": "code",
   "execution_count": 17,
   "id": "779a38a6",
   "metadata": {},
   "outputs": [],
   "source": [
    "from sklearn.preprocessing import StandardScaler\n",
    "ss = StandardScaler()"
   ]
  },
  {
   "cell_type": "code",
   "execution_count": 18,
   "id": "359f4111",
   "metadata": {},
   "outputs": [
    {
     "data": {
      "text/html": [
       "<div>\n",
       "<style scoped>\n",
       "    .dataframe tbody tr th:only-of-type {\n",
       "        vertical-align: middle;\n",
       "    }\n",
       "\n",
       "    .dataframe tbody tr th {\n",
       "        vertical-align: top;\n",
       "    }\n",
       "\n",
       "    .dataframe thead th {\n",
       "        text-align: right;\n",
       "    }\n",
       "</style>\n",
       "<table border=\"1\" class=\"dataframe\">\n",
       "  <thead>\n",
       "    <tr style=\"text-align: right;\">\n",
       "      <th></th>\n",
       "      <th>JAN</th>\n",
       "      <th>FEB</th>\n",
       "      <th>MAR</th>\n",
       "      <th>APR</th>\n",
       "      <th>MAY</th>\n",
       "      <th>JUN</th>\n",
       "      <th>JUL</th>\n",
       "      <th>AUG</th>\n",
       "      <th>SEP</th>\n",
       "      <th>OCT</th>\n",
       "      <th>NOV</th>\n",
       "      <th>DEC</th>\n",
       "    </tr>\n",
       "  </thead>\n",
       "  <tbody>\n",
       "    <tr>\n",
       "      <th>0</th>\n",
       "      <td>49.2</td>\n",
       "      <td>87.1</td>\n",
       "      <td>29.2</td>\n",
       "      <td>2.3</td>\n",
       "      <td>528.8</td>\n",
       "      <td>517.5</td>\n",
       "      <td>365.1</td>\n",
       "      <td>481.1</td>\n",
       "      <td>332.6</td>\n",
       "      <td>388.5</td>\n",
       "      <td>558.2</td>\n",
       "      <td>33.6</td>\n",
       "    </tr>\n",
       "    <tr>\n",
       "      <th>1</th>\n",
       "      <td>0.0</td>\n",
       "      <td>159.8</td>\n",
       "      <td>12.2</td>\n",
       "      <td>0.0</td>\n",
       "      <td>446.1</td>\n",
       "      <td>537.1</td>\n",
       "      <td>228.9</td>\n",
       "      <td>753.7</td>\n",
       "      <td>666.2</td>\n",
       "      <td>197.2</td>\n",
       "      <td>359.0</td>\n",
       "      <td>160.5</td>\n",
       "    </tr>\n",
       "    <tr>\n",
       "      <th>2</th>\n",
       "      <td>12.7</td>\n",
       "      <td>144.0</td>\n",
       "      <td>0.0</td>\n",
       "      <td>1.0</td>\n",
       "      <td>235.1</td>\n",
       "      <td>479.9</td>\n",
       "      <td>728.4</td>\n",
       "      <td>326.7</td>\n",
       "      <td>339.0</td>\n",
       "      <td>181.2</td>\n",
       "      <td>284.4</td>\n",
       "      <td>225.0</td>\n",
       "    </tr>\n",
       "    <tr>\n",
       "      <th>3</th>\n",
       "      <td>9.4</td>\n",
       "      <td>14.7</td>\n",
       "      <td>0.0</td>\n",
       "      <td>202.4</td>\n",
       "      <td>304.5</td>\n",
       "      <td>495.1</td>\n",
       "      <td>502.0</td>\n",
       "      <td>160.1</td>\n",
       "      <td>820.4</td>\n",
       "      <td>222.2</td>\n",
       "      <td>308.7</td>\n",
       "      <td>40.1</td>\n",
       "    </tr>\n",
       "    <tr>\n",
       "      <th>4</th>\n",
       "      <td>1.3</td>\n",
       "      <td>0.0</td>\n",
       "      <td>3.3</td>\n",
       "      <td>26.9</td>\n",
       "      <td>279.5</td>\n",
       "      <td>628.7</td>\n",
       "      <td>368.7</td>\n",
       "      <td>330.5</td>\n",
       "      <td>297.0</td>\n",
       "      <td>260.7</td>\n",
       "      <td>25.4</td>\n",
       "      <td>344.7</td>\n",
       "    </tr>\n",
       "    <tr>\n",
       "      <th>...</th>\n",
       "      <td>...</td>\n",
       "      <td>...</td>\n",
       "      <td>...</td>\n",
       "      <td>...</td>\n",
       "      <td>...</td>\n",
       "      <td>...</td>\n",
       "      <td>...</td>\n",
       "      <td>...</td>\n",
       "      <td>...</td>\n",
       "      <td>...</td>\n",
       "      <td>...</td>\n",
       "      <td>...</td>\n",
       "    </tr>\n",
       "    <tr>\n",
       "      <th>4111</th>\n",
       "      <td>5.1</td>\n",
       "      <td>2.8</td>\n",
       "      <td>3.1</td>\n",
       "      <td>85.9</td>\n",
       "      <td>107.2</td>\n",
       "      <td>153.6</td>\n",
       "      <td>350.2</td>\n",
       "      <td>254.0</td>\n",
       "      <td>255.2</td>\n",
       "      <td>117.4</td>\n",
       "      <td>184.3</td>\n",
       "      <td>14.9</td>\n",
       "    </tr>\n",
       "    <tr>\n",
       "      <th>4112</th>\n",
       "      <td>19.2</td>\n",
       "      <td>0.1</td>\n",
       "      <td>1.6</td>\n",
       "      <td>76.8</td>\n",
       "      <td>21.2</td>\n",
       "      <td>327.0</td>\n",
       "      <td>231.5</td>\n",
       "      <td>381.2</td>\n",
       "      <td>179.8</td>\n",
       "      <td>145.9</td>\n",
       "      <td>12.4</td>\n",
       "      <td>8.8</td>\n",
       "    </tr>\n",
       "    <tr>\n",
       "      <th>4113</th>\n",
       "      <td>26.2</td>\n",
       "      <td>34.4</td>\n",
       "      <td>37.5</td>\n",
       "      <td>5.3</td>\n",
       "      <td>88.3</td>\n",
       "      <td>426.2</td>\n",
       "      <td>296.4</td>\n",
       "      <td>154.4</td>\n",
       "      <td>180.0</td>\n",
       "      <td>72.8</td>\n",
       "      <td>78.1</td>\n",
       "      <td>26.7</td>\n",
       "    </tr>\n",
       "    <tr>\n",
       "      <th>4114</th>\n",
       "      <td>53.2</td>\n",
       "      <td>16.1</td>\n",
       "      <td>4.4</td>\n",
       "      <td>14.9</td>\n",
       "      <td>57.4</td>\n",
       "      <td>244.1</td>\n",
       "      <td>116.1</td>\n",
       "      <td>466.1</td>\n",
       "      <td>132.2</td>\n",
       "      <td>169.2</td>\n",
       "      <td>59.0</td>\n",
       "      <td>62.3</td>\n",
       "    </tr>\n",
       "    <tr>\n",
       "      <th>4115</th>\n",
       "      <td>2.2</td>\n",
       "      <td>0.5</td>\n",
       "      <td>3.7</td>\n",
       "      <td>87.1</td>\n",
       "      <td>133.1</td>\n",
       "      <td>296.6</td>\n",
       "      <td>257.5</td>\n",
       "      <td>146.4</td>\n",
       "      <td>160.4</td>\n",
       "      <td>165.4</td>\n",
       "      <td>231.0</td>\n",
       "      <td>159.0</td>\n",
       "    </tr>\n",
       "  </tbody>\n",
       "</table>\n",
       "<p>4116 rows × 12 columns</p>\n",
       "</div>"
      ],
      "text/plain": [
       "       JAN    FEB   MAR    APR    MAY    JUN    JUL    AUG    SEP    OCT  \\\n",
       "0     49.2   87.1  29.2    2.3  528.8  517.5  365.1  481.1  332.6  388.5   \n",
       "1      0.0  159.8  12.2    0.0  446.1  537.1  228.9  753.7  666.2  197.2   \n",
       "2     12.7  144.0   0.0    1.0  235.1  479.9  728.4  326.7  339.0  181.2   \n",
       "3      9.4   14.7   0.0  202.4  304.5  495.1  502.0  160.1  820.4  222.2   \n",
       "4      1.3    0.0   3.3   26.9  279.5  628.7  368.7  330.5  297.0  260.7   \n",
       "...    ...    ...   ...    ...    ...    ...    ...    ...    ...    ...   \n",
       "4111   5.1    2.8   3.1   85.9  107.2  153.6  350.2  254.0  255.2  117.4   \n",
       "4112  19.2    0.1   1.6   76.8   21.2  327.0  231.5  381.2  179.8  145.9   \n",
       "4113  26.2   34.4  37.5    5.3   88.3  426.2  296.4  154.4  180.0   72.8   \n",
       "4114  53.2   16.1   4.4   14.9   57.4  244.1  116.1  466.1  132.2  169.2   \n",
       "4115   2.2    0.5   3.7   87.1  133.1  296.6  257.5  146.4  160.4  165.4   \n",
       "\n",
       "        NOV    DEC  \n",
       "0     558.2   33.6  \n",
       "1     359.0  160.5  \n",
       "2     284.4  225.0  \n",
       "3     308.7   40.1  \n",
       "4      25.4  344.7  \n",
       "...     ...    ...  \n",
       "4111  184.3   14.9  \n",
       "4112   12.4    8.8  \n",
       "4113   78.1   26.7  \n",
       "4114   59.0   62.3  \n",
       "4115  231.0  159.0  \n",
       "\n",
       "[4116 rows x 12 columns]"
      ]
     },
     "execution_count": 18,
     "metadata": {},
     "output_type": "execute_result"
    }
   ],
   "source": [
    "df.iloc[:,2:14]"
   ]
  },
  {
   "cell_type": "code",
   "execution_count": 19,
   "id": "27ca6c49",
   "metadata": {},
   "outputs": [],
   "source": [
    "df1= pd.DataFrame()"
   ]
  },
  {
   "cell_type": "code",
   "execution_count": 20,
   "id": "8cc9bcd1",
   "metadata": {},
   "outputs": [],
   "source": [
    "df1['DIVISION']= df['DIVISION']\n",
    "df1['YEAR']= df['YEAR']\n",
    "df1['ANNUAL']= df['ANNUAL']"
   ]
  },
  {
   "cell_type": "code",
   "execution_count": 21,
   "id": "abbe4c93",
   "metadata": {},
   "outputs": [],
   "source": [
    "df.drop(['DIVISION','YEAR', 'ANNUAL'], axis=1, inplace= True)"
   ]
  },
  {
   "cell_type": "code",
   "execution_count": 22,
   "id": "687e19d3",
   "metadata": {},
   "outputs": [
    {
     "data": {
      "text/html": [
       "<div>\n",
       "<style scoped>\n",
       "    .dataframe tbody tr th:only-of-type {\n",
       "        vertical-align: middle;\n",
       "    }\n",
       "\n",
       "    .dataframe tbody tr th {\n",
       "        vertical-align: top;\n",
       "    }\n",
       "\n",
       "    .dataframe thead th {\n",
       "        text-align: right;\n",
       "    }\n",
       "</style>\n",
       "<table border=\"1\" class=\"dataframe\">\n",
       "  <thead>\n",
       "    <tr style=\"text-align: right;\">\n",
       "      <th></th>\n",
       "      <th>JAN</th>\n",
       "      <th>FEB</th>\n",
       "      <th>MAR</th>\n",
       "      <th>APR</th>\n",
       "      <th>MAY</th>\n",
       "      <th>JUN</th>\n",
       "      <th>JUL</th>\n",
       "      <th>AUG</th>\n",
       "      <th>SEP</th>\n",
       "      <th>OCT</th>\n",
       "      <th>NOV</th>\n",
       "      <th>DEC</th>\n",
       "    </tr>\n",
       "  </thead>\n",
       "  <tbody>\n",
       "    <tr>\n",
       "      <th>0</th>\n",
       "      <td>49.2</td>\n",
       "      <td>87.1</td>\n",
       "      <td>29.2</td>\n",
       "      <td>2.3</td>\n",
       "      <td>528.8</td>\n",
       "      <td>517.5</td>\n",
       "      <td>365.1</td>\n",
       "      <td>481.1</td>\n",
       "      <td>332.6</td>\n",
       "      <td>388.5</td>\n",
       "      <td>558.2</td>\n",
       "      <td>33.6</td>\n",
       "    </tr>\n",
       "    <tr>\n",
       "      <th>1</th>\n",
       "      <td>0.0</td>\n",
       "      <td>159.8</td>\n",
       "      <td>12.2</td>\n",
       "      <td>0.0</td>\n",
       "      <td>446.1</td>\n",
       "      <td>537.1</td>\n",
       "      <td>228.9</td>\n",
       "      <td>753.7</td>\n",
       "      <td>666.2</td>\n",
       "      <td>197.2</td>\n",
       "      <td>359.0</td>\n",
       "      <td>160.5</td>\n",
       "    </tr>\n",
       "    <tr>\n",
       "      <th>2</th>\n",
       "      <td>12.7</td>\n",
       "      <td>144.0</td>\n",
       "      <td>0.0</td>\n",
       "      <td>1.0</td>\n",
       "      <td>235.1</td>\n",
       "      <td>479.9</td>\n",
       "      <td>728.4</td>\n",
       "      <td>326.7</td>\n",
       "      <td>339.0</td>\n",
       "      <td>181.2</td>\n",
       "      <td>284.4</td>\n",
       "      <td>225.0</td>\n",
       "    </tr>\n",
       "    <tr>\n",
       "      <th>3</th>\n",
       "      <td>9.4</td>\n",
       "      <td>14.7</td>\n",
       "      <td>0.0</td>\n",
       "      <td>202.4</td>\n",
       "      <td>304.5</td>\n",
       "      <td>495.1</td>\n",
       "      <td>502.0</td>\n",
       "      <td>160.1</td>\n",
       "      <td>820.4</td>\n",
       "      <td>222.2</td>\n",
       "      <td>308.7</td>\n",
       "      <td>40.1</td>\n",
       "    </tr>\n",
       "    <tr>\n",
       "      <th>4</th>\n",
       "      <td>1.3</td>\n",
       "      <td>0.0</td>\n",
       "      <td>3.3</td>\n",
       "      <td>26.9</td>\n",
       "      <td>279.5</td>\n",
       "      <td>628.7</td>\n",
       "      <td>368.7</td>\n",
       "      <td>330.5</td>\n",
       "      <td>297.0</td>\n",
       "      <td>260.7</td>\n",
       "      <td>25.4</td>\n",
       "      <td>344.7</td>\n",
       "    </tr>\n",
       "    <tr>\n",
       "      <th>...</th>\n",
       "      <td>...</td>\n",
       "      <td>...</td>\n",
       "      <td>...</td>\n",
       "      <td>...</td>\n",
       "      <td>...</td>\n",
       "      <td>...</td>\n",
       "      <td>...</td>\n",
       "      <td>...</td>\n",
       "      <td>...</td>\n",
       "      <td>...</td>\n",
       "      <td>...</td>\n",
       "      <td>...</td>\n",
       "    </tr>\n",
       "    <tr>\n",
       "      <th>4111</th>\n",
       "      <td>5.1</td>\n",
       "      <td>2.8</td>\n",
       "      <td>3.1</td>\n",
       "      <td>85.9</td>\n",
       "      <td>107.2</td>\n",
       "      <td>153.6</td>\n",
       "      <td>350.2</td>\n",
       "      <td>254.0</td>\n",
       "      <td>255.2</td>\n",
       "      <td>117.4</td>\n",
       "      <td>184.3</td>\n",
       "      <td>14.9</td>\n",
       "    </tr>\n",
       "    <tr>\n",
       "      <th>4112</th>\n",
       "      <td>19.2</td>\n",
       "      <td>0.1</td>\n",
       "      <td>1.6</td>\n",
       "      <td>76.8</td>\n",
       "      <td>21.2</td>\n",
       "      <td>327.0</td>\n",
       "      <td>231.5</td>\n",
       "      <td>381.2</td>\n",
       "      <td>179.8</td>\n",
       "      <td>145.9</td>\n",
       "      <td>12.4</td>\n",
       "      <td>8.8</td>\n",
       "    </tr>\n",
       "    <tr>\n",
       "      <th>4113</th>\n",
       "      <td>26.2</td>\n",
       "      <td>34.4</td>\n",
       "      <td>37.5</td>\n",
       "      <td>5.3</td>\n",
       "      <td>88.3</td>\n",
       "      <td>426.2</td>\n",
       "      <td>296.4</td>\n",
       "      <td>154.4</td>\n",
       "      <td>180.0</td>\n",
       "      <td>72.8</td>\n",
       "      <td>78.1</td>\n",
       "      <td>26.7</td>\n",
       "    </tr>\n",
       "    <tr>\n",
       "      <th>4114</th>\n",
       "      <td>53.2</td>\n",
       "      <td>16.1</td>\n",
       "      <td>4.4</td>\n",
       "      <td>14.9</td>\n",
       "      <td>57.4</td>\n",
       "      <td>244.1</td>\n",
       "      <td>116.1</td>\n",
       "      <td>466.1</td>\n",
       "      <td>132.2</td>\n",
       "      <td>169.2</td>\n",
       "      <td>59.0</td>\n",
       "      <td>62.3</td>\n",
       "    </tr>\n",
       "    <tr>\n",
       "      <th>4115</th>\n",
       "      <td>2.2</td>\n",
       "      <td>0.5</td>\n",
       "      <td>3.7</td>\n",
       "      <td>87.1</td>\n",
       "      <td>133.1</td>\n",
       "      <td>296.6</td>\n",
       "      <td>257.5</td>\n",
       "      <td>146.4</td>\n",
       "      <td>160.4</td>\n",
       "      <td>165.4</td>\n",
       "      <td>231.0</td>\n",
       "      <td>159.0</td>\n",
       "    </tr>\n",
       "  </tbody>\n",
       "</table>\n",
       "<p>4116 rows × 12 columns</p>\n",
       "</div>"
      ],
      "text/plain": [
       "       JAN    FEB   MAR    APR    MAY    JUN    JUL    AUG    SEP    OCT  \\\n",
       "0     49.2   87.1  29.2    2.3  528.8  517.5  365.1  481.1  332.6  388.5   \n",
       "1      0.0  159.8  12.2    0.0  446.1  537.1  228.9  753.7  666.2  197.2   \n",
       "2     12.7  144.0   0.0    1.0  235.1  479.9  728.4  326.7  339.0  181.2   \n",
       "3      9.4   14.7   0.0  202.4  304.5  495.1  502.0  160.1  820.4  222.2   \n",
       "4      1.3    0.0   3.3   26.9  279.5  628.7  368.7  330.5  297.0  260.7   \n",
       "...    ...    ...   ...    ...    ...    ...    ...    ...    ...    ...   \n",
       "4111   5.1    2.8   3.1   85.9  107.2  153.6  350.2  254.0  255.2  117.4   \n",
       "4112  19.2    0.1   1.6   76.8   21.2  327.0  231.5  381.2  179.8  145.9   \n",
       "4113  26.2   34.4  37.5    5.3   88.3  426.2  296.4  154.4  180.0   72.8   \n",
       "4114  53.2   16.1   4.4   14.9   57.4  244.1  116.1  466.1  132.2  169.2   \n",
       "4115   2.2    0.5   3.7   87.1  133.1  296.6  257.5  146.4  160.4  165.4   \n",
       "\n",
       "        NOV    DEC  \n",
       "0     558.2   33.6  \n",
       "1     359.0  160.5  \n",
       "2     284.4  225.0  \n",
       "3     308.7   40.1  \n",
       "4      25.4  344.7  \n",
       "...     ...    ...  \n",
       "4111  184.3   14.9  \n",
       "4112   12.4    8.8  \n",
       "4113   78.1   26.7  \n",
       "4114   59.0   62.3  \n",
       "4115  231.0  159.0  \n",
       "\n",
       "[4116 rows x 12 columns]"
      ]
     },
     "execution_count": 22,
     "metadata": {},
     "output_type": "execute_result"
    }
   ],
   "source": [
    "df"
   ]
  },
  {
   "cell_type": "code",
   "execution_count": 23,
   "id": "6d36e649",
   "metadata": {
    "scrolled": true
   },
   "outputs": [
    {
     "data": {
      "text/plain": [
       "array([[ 0.9013292 ,  1.81938621,  0.03983588, ...,  2.94723827,\n",
       "         7.55672537,  0.3489584 ],\n",
       "       [-0.56437887,  3.84477462, -0.3224412 , ...,  1.02327581,\n",
       "         4.65306764,  3.34752859],\n",
       "       [-0.18603553,  3.40459392, -0.58242828, ...,  0.86235893,\n",
       "         3.56565365,  4.87162455],\n",
       "       ...,\n",
       "       [ 0.21614047,  0.35118856,  0.21671233, ..., -0.22785294,\n",
       "         0.5585021 ,  0.18591557],\n",
       "       [ 1.02049246, -0.15864098, -0.48866244, ...,  0.74167127,\n",
       "         0.28008913,  1.02712202],\n",
       "       [-0.49883908, -0.59324977, -0.50357974, ...,  0.70345351,\n",
       "         2.78726348,  3.31208449]])"
      ]
     },
     "execution_count": 23,
     "metadata": {},
     "output_type": "execute_result"
    }
   ],
   "source": [
    "df_month = ss.fit_transform(df)\n",
    "df_month"
   ]
  },
  {
   "cell_type": "code",
   "execution_count": 24,
   "id": "556799f6",
   "metadata": {},
   "outputs": [],
   "source": [
    "df= pd.DataFrame(df_month, columns= cols)"
   ]
  },
  {
   "cell_type": "code",
   "execution_count": 25,
   "id": "caa18125",
   "metadata": {},
   "outputs": [
    {
     "data": {
      "text/plain": [
       "((4116, 12), (4116, 3))"
      ]
     },
     "execution_count": 25,
     "metadata": {},
     "output_type": "execute_result"
    }
   ],
   "source": [
    "df.shape,df1.shape"
   ]
  },
  {
   "cell_type": "code",
   "execution_count": 26,
   "id": "b957750a",
   "metadata": {},
   "outputs": [
    {
     "data": {
      "text/plain": [
       "(pandas.core.frame.DataFrame, pandas.core.frame.DataFrame)"
      ]
     },
     "execution_count": 26,
     "metadata": {},
     "output_type": "execute_result"
    }
   ],
   "source": [
    "type(df), type(df1)"
   ]
  },
  {
   "cell_type": "code",
   "execution_count": 27,
   "id": "dc0163ac",
   "metadata": {},
   "outputs": [
    {
     "data": {
      "text/html": [
       "<div>\n",
       "<style scoped>\n",
       "    .dataframe tbody tr th:only-of-type {\n",
       "        vertical-align: middle;\n",
       "    }\n",
       "\n",
       "    .dataframe tbody tr th {\n",
       "        vertical-align: top;\n",
       "    }\n",
       "\n",
       "    .dataframe thead th {\n",
       "        text-align: right;\n",
       "    }\n",
       "</style>\n",
       "<table border=\"1\" class=\"dataframe\">\n",
       "  <thead>\n",
       "    <tr style=\"text-align: right;\">\n",
       "      <th></th>\n",
       "      <th>JAN</th>\n",
       "      <th>FEB</th>\n",
       "      <th>MAR</th>\n",
       "      <th>APR</th>\n",
       "      <th>MAY</th>\n",
       "      <th>JUN</th>\n",
       "      <th>JUL</th>\n",
       "      <th>AUG</th>\n",
       "      <th>SEP</th>\n",
       "      <th>OCT</th>\n",
       "      <th>NOV</th>\n",
       "      <th>DEC</th>\n",
       "      <th>DIVISION</th>\n",
       "      <th>YEAR</th>\n",
       "      <th>ANNUAL</th>\n",
       "    </tr>\n",
       "  </thead>\n",
       "  <tbody>\n",
       "    <tr>\n",
       "      <th>0</th>\n",
       "      <td>0.901329</td>\n",
       "      <td>1.819386</td>\n",
       "      <td>0.039836</td>\n",
       "      <td>-0.601823</td>\n",
       "      <td>3.597034</td>\n",
       "      <td>1.225167</td>\n",
       "      <td>0.066812</td>\n",
       "      <td>1.011705</td>\n",
       "      <td>0.999824</td>\n",
       "      <td>2.947238</td>\n",
       "      <td>7.556725</td>\n",
       "      <td>0.348958</td>\n",
       "      <td>0</td>\n",
       "      <td>1901</td>\n",
       "      <td>3373.2</td>\n",
       "    </tr>\n",
       "    <tr>\n",
       "      <th>1</th>\n",
       "      <td>-0.564379</td>\n",
       "      <td>3.844775</td>\n",
       "      <td>-0.322441</td>\n",
       "      <td>-0.635748</td>\n",
       "      <td>2.925671</td>\n",
       "      <td>1.308727</td>\n",
       "      <td>-0.438963</td>\n",
       "      <td>2.456646</td>\n",
       "      <td>3.465527</td>\n",
       "      <td>1.023276</td>\n",
       "      <td>4.653068</td>\n",
       "      <td>3.347529</td>\n",
       "      <td>0</td>\n",
       "      <td>1902</td>\n",
       "      <td>3520.7</td>\n",
       "    </tr>\n",
       "    <tr>\n",
       "      <th>2</th>\n",
       "      <td>-0.186036</td>\n",
       "      <td>3.404594</td>\n",
       "      <td>-0.582428</td>\n",
       "      <td>-0.620998</td>\n",
       "      <td>1.212760</td>\n",
       "      <td>1.064868</td>\n",
       "      <td>1.415916</td>\n",
       "      <td>0.193294</td>\n",
       "      <td>1.047127</td>\n",
       "      <td>0.862359</td>\n",
       "      <td>3.565654</td>\n",
       "      <td>4.871625</td>\n",
       "      <td>0</td>\n",
       "      <td>1903</td>\n",
       "      <td>2957.4</td>\n",
       "    </tr>\n",
       "  </tbody>\n",
       "</table>\n",
       "</div>"
      ],
      "text/plain": [
       "        JAN       FEB       MAR       APR       MAY       JUN       JUL  \\\n",
       "0  0.901329  1.819386  0.039836 -0.601823  3.597034  1.225167  0.066812   \n",
       "1 -0.564379  3.844775 -0.322441 -0.635748  2.925671  1.308727 -0.438963   \n",
       "2 -0.186036  3.404594 -0.582428 -0.620998  1.212760  1.064868  1.415916   \n",
       "\n",
       "        AUG       SEP       OCT       NOV       DEC  DIVISION  YEAR  ANNUAL  \n",
       "0  1.011705  0.999824  2.947238  7.556725  0.348958         0  1901  3373.2  \n",
       "1  2.456646  3.465527  1.023276  4.653068  3.347529         0  1902  3520.7  \n",
       "2  0.193294  1.047127  0.862359  3.565654  4.871625         0  1903  2957.4  "
      ]
     },
     "execution_count": 27,
     "metadata": {},
     "output_type": "execute_result"
    }
   ],
   "source": [
    "final=pd.merge(df, df1,right_index=True,left_index=True, how='inner')\n",
    "final.head(3)"
   ]
  },
  {
   "cell_type": "code",
   "execution_count": 28,
   "id": "a61c9185",
   "metadata": {},
   "outputs": [],
   "source": [
    "X= final.drop('ANNUAL', axis=1)\n",
    "y= final['ANNUAL']"
   ]
  },
  {
   "cell_type": "code",
   "execution_count": 29,
   "id": "512de610",
   "metadata": {},
   "outputs": [],
   "source": [
    "from sklearn.model_selection import train_test_split\n",
    "X_train, X_test, y_train, y_test = train_test_split(X, y, test_size= 0.20)"
   ]
  },
  {
   "cell_type": "code",
   "execution_count": 30,
   "id": "25ea37a5",
   "metadata": {},
   "outputs": [],
   "source": [
    "from sklearn.linear_model import LinearRegression\n",
    "lr = LinearRegression()"
   ]
  },
  {
   "cell_type": "code",
   "execution_count": 31,
   "id": "dbd83982",
   "metadata": {},
   "outputs": [
    {
     "data": {
      "text/plain": [
       "LinearRegression()"
      ]
     },
     "execution_count": 31,
     "metadata": {},
     "output_type": "execute_result"
    }
   ],
   "source": [
    "lr.fit(X_train, y_train)"
   ]
  },
  {
   "cell_type": "code",
   "execution_count": 32,
   "id": "997c26be",
   "metadata": {},
   "outputs": [
    {
     "data": {
      "text/plain": [
       "0.9831955253725462"
      ]
     },
     "execution_count": 32,
     "metadata": {},
     "output_type": "execute_result"
    }
   ],
   "source": [
    "lr.score(X_train, y_train)"
   ]
  },
  {
   "cell_type": "code",
   "execution_count": 33,
   "id": "956eea84",
   "metadata": {},
   "outputs": [],
   "source": [
    "pred= lr.predict(X_test)"
   ]
  },
  {
   "cell_type": "code",
   "execution_count": 34,
   "id": "7086cfa5",
   "metadata": {},
   "outputs": [],
   "source": [
    "from sklearn.metrics import mean_squared_error, mean_absolute_error, r2_score"
   ]
  },
  {
   "cell_type": "code",
   "execution_count": 35,
   "id": "8e73a7ec",
   "metadata": {},
   "outputs": [
    {
     "data": {
      "text/plain": [
       "0.9852135542510617"
      ]
     },
     "execution_count": 35,
     "metadata": {},
     "output_type": "execute_result"
    }
   ],
   "source": [
    "r2_score(pred, y_test)"
   ]
  },
  {
   "cell_type": "code",
   "execution_count": 36,
   "id": "2b2838ff",
   "metadata": {},
   "outputs": [
    {
     "data": {
      "text/plain": [
       "11964.916147305861"
      ]
     },
     "execution_count": 36,
     "metadata": {},
     "output_type": "execute_result"
    }
   ],
   "source": [
    "mean_squared_error(pred, y_test)"
   ]
  },
  {
   "cell_type": "code",
   "execution_count": 37,
   "id": "adbf3764",
   "metadata": {},
   "outputs": [],
   "source": [
    "#predictions"
   ]
  },
  {
   "cell_type": "code",
   "execution_count": 38,
   "id": "255a4ef9",
   "metadata": {},
   "outputs": [],
   "source": [
    "a= [0.901329,1.819386,0.039836,-0.601823,3.597034,1.225167,0.066812,1.011705,0.999824,2.947238,7.556725,0.348958,0,1901]"
   ]
  },
  {
   "cell_type": "code",
   "execution_count": 39,
   "id": "9ffdb763",
   "metadata": {},
   "outputs": [
    {
     "data": {
      "text/plain": [
       "array([3306.11779835])"
      ]
     },
     "execution_count": 39,
     "metadata": {},
     "output_type": "execute_result"
    }
   ],
   "source": [
    "lr.predict([a])"
   ]
  },
  {
   "cell_type": "code",
   "execution_count": 40,
   "id": "f231ba68",
   "metadata": {},
   "outputs": [],
   "source": [
    "from sklearn.linear_model import Ridge, Lasso\n",
    "from sklearn.model_selection import cross_val_score\n",
    "from sklearn.model_selection import RepeatedKFold\n",
    "from sklearn.model_selection import GridSearchCV"
   ]
  },
  {
   "cell_type": "code",
   "execution_count": 41,
   "id": "d4beee73",
   "metadata": {},
   "outputs": [
    {
     "data": {
      "text/plain": [
       "GridSearchCV(cv=5, estimator=Ridge(),\n",
       "             param_grid={'alpha': [1e-15, 1e-10, 1e-08, 1e-05, 0.01, 0.1, 2, 5,\n",
       "                                   10, 20, 40, 75, 100]},\n",
       "             scoring='neg_mean_absolute_error')"
      ]
     },
     "execution_count": 41,
     "metadata": {},
     "output_type": "execute_result"
    }
   ],
   "source": [
    "ridge= Ridge()\n",
    "parameters= {'alpha': [1e-15, 1e-10,1e-8, 1e-5,1e-2, 1e-1, 2, 5, 10, 20, 40, 75, 100]}\n",
    "ridge_regressor= GridSearchCV(ridge, parameters, scoring= 'neg_mean_absolute_error', cv=5)\n",
    "ridge_regressor.fit(X_train, y_train)"
   ]
  },
  {
   "cell_type": "code",
   "execution_count": 42,
   "id": "8a0c16ed",
   "metadata": {},
   "outputs": [
    {
     "name": "stdout",
     "output_type": "stream",
     "text": [
      "{'alpha': 1e-15}\n",
      "-22.572576835236866\n"
     ]
    }
   ],
   "source": [
    "print(ridge_regressor.best_params_)\n",
    "print(ridge_regressor.best_score_)"
   ]
  },
  {
   "cell_type": "code",
   "execution_count": null,
   "id": "408b2ae8",
   "metadata": {},
   "outputs": [],
   "source": []
  },
  {
   "cell_type": "code",
   "execution_count": 43,
   "id": "de64ccb2",
   "metadata": {},
   "outputs": [
    {
     "name": "stderr",
     "output_type": "stream",
     "text": [
      "C:\\Program Files\\Python36\\lib\\site-packages\\sklearn\\linear_model\\_coordinate_descent.py:532: ConvergenceWarning: Objective did not converge. You might want to increase the number of iterations. Duality gap: 18604216.566880256, tolerance: 210607.88030804024\n",
      "  positive)\n",
      "C:\\Program Files\\Python36\\lib\\site-packages\\sklearn\\linear_model\\_coordinate_descent.py:532: ConvergenceWarning: Objective did not converge. You might want to increase the number of iterations. Duality gap: 19912021.71451673, tolerance: 213378.2937455002\n",
      "  positive)\n",
      "C:\\Program Files\\Python36\\lib\\site-packages\\sklearn\\linear_model\\_coordinate_descent.py:532: ConvergenceWarning: Objective did not converge. You might want to increase the number of iterations. Duality gap: 19208395.58603951, tolerance: 213333.95156912258\n",
      "  positive)\n",
      "C:\\Program Files\\Python36\\lib\\site-packages\\sklearn\\linear_model\\_coordinate_descent.py:532: ConvergenceWarning: Objective did not converge. You might want to increase the number of iterations. Duality gap: 13241996.439993242, tolerance: 212364.04782234516\n",
      "  positive)\n",
      "C:\\Program Files\\Python36\\lib\\site-packages\\sklearn\\linear_model\\_coordinate_descent.py:532: ConvergenceWarning: Objective did not converge. You might want to increase the number of iterations. Duality gap: 14582734.065455223, tolerance: 215488.49624841192\n",
      "  positive)\n"
     ]
    },
    {
     "name": "stdout",
     "output_type": "stream",
     "text": [
      "{'alpha': 1e-15}\n",
      "-22.572576835236973\n"
     ]
    },
    {
     "name": "stderr",
     "output_type": "stream",
     "text": [
      "C:\\Program Files\\Python36\\lib\\site-packages\\sklearn\\linear_model\\_coordinate_descent.py:532: ConvergenceWarning: Objective did not converge. You might want to increase the number of iterations. Duality gap: 21748408.809625864, tolerance: 266318.4163713816\n",
      "  positive)\n"
     ]
    }
   ],
   "source": [
    "lasso= Lasso()\n",
    "parameters= {'alpha': [1e-15, 1e-10,1e-8, 1e-5,1e-2, 1e-1, 2, 5, 10, 20, 40, 75, 100]}\n",
    "lasso_regressor= GridSearchCV(lasso, parameters, scoring= 'neg_mean_absolute_error', cv=5)\n",
    "lasso_regressor.fit(X_train, y_train)\n",
    "\n",
    "print(lasso_regressor.best_params_)\n",
    "print(lasso_regressor.best_score_)"
   ]
  },
  {
   "cell_type": "code",
   "execution_count": 44,
   "id": "9d92ea0b",
   "metadata": {},
   "outputs": [],
   "source": [
    "prediction_ridge= ridge_regressor.predict(X_test)\n",
    "prediction_lasso= lasso_regressor.predict(X_test)"
   ]
  },
  {
   "cell_type": "code",
   "execution_count": 45,
   "id": "06c2c8b5",
   "metadata": {},
   "outputs": [
    {
     "name": "stdout",
     "output_type": "stream",
     "text": [
      "11964.916147305881\n",
      "11964.916147305834\n"
     ]
    }
   ],
   "source": [
    "print(mean_squared_error(prediction_ridge, y_test))\n",
    "print(mean_squared_error(prediction_lasso, y_test))"
   ]
  },
  {
   "cell_type": "code",
   "execution_count": 46,
   "id": "75f110a8",
   "metadata": {},
   "outputs": [
    {
     "name": "stderr",
     "output_type": "stream",
     "text": [
      "C:\\Program Files\\Python36\\lib\\site-packages\\seaborn\\distributions.py:2557: FutureWarning: `distplot` is a deprecated function and will be removed in a future version. Please adapt your code to use either `displot` (a figure-level function with similar flexibility) or `histplot` (an axes-level function for histograms).\n",
      "  warnings.warn(msg, FutureWarning)\n"
     ]
    },
    {
     "data": {
      "text/plain": [
       "<AxesSubplot:xlabel='ANNUAL', ylabel='Density'>"
      ]
     },
     "execution_count": 46,
     "metadata": {},
     "output_type": "execute_result"
    },
    {
     "data": {
      "image/png": "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\n",
      "text/plain": [
       "<Figure size 432x288 with 1 Axes>"
      ]
     },
     "metadata": {
      "needs_background": "light"
     },
     "output_type": "display_data"
    }
   ],
   "source": [
    "import seaborn as sns \n",
    "sns.distplot(y_test-prediction_ridge)"
   ]
  },
  {
   "cell_type": "code",
   "execution_count": 47,
   "id": "3d52f342",
   "metadata": {},
   "outputs": [
    {
     "name": "stderr",
     "output_type": "stream",
     "text": [
      "C:\\Program Files\\Python36\\lib\\site-packages\\seaborn\\distributions.py:2557: FutureWarning: `distplot` is a deprecated function and will be removed in a future version. Please adapt your code to use either `displot` (a figure-level function with similar flexibility) or `histplot` (an axes-level function for histograms).\n",
      "  warnings.warn(msg, FutureWarning)\n"
     ]
    },
    {
     "data": {
      "text/plain": [
       "<AxesSubplot:xlabel='ANNUAL', ylabel='Density'>"
      ]
     },
     "execution_count": 47,
     "metadata": {},
     "output_type": "execute_result"
    },
    {
     "data": {
      "image/png": "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\n",
      "text/plain": [
       "<Figure size 432x288 with 1 Axes>"
      ]
     },
     "metadata": {
      "needs_background": "light"
     },
     "output_type": "display_data"
    }
   ],
   "source": [
    "import seaborn as sns \n",
    "sns.distplot(y_test-prediction_lasso)"
   ]
  },
  {
   "cell_type": "code",
   "execution_count": null,
   "id": "4c97e5e7",
   "metadata": {},
   "outputs": [],
   "source": []
  },
  {
   "cell_type": "code",
   "execution_count": null,
   "id": "e4e7212f",
   "metadata": {},
   "outputs": [],
   "source": []
  },
  {
   "cell_type": "code",
   "execution_count": 48,
   "id": "fa8ec21b",
   "metadata": {},
   "outputs": [],
   "source": [
    "from sklearn.tree import DecisionTreeRegressor\n",
    "dt= DecisionTreeRegressor(criterion= 'mse')"
   ]
  },
  {
   "cell_type": "code",
   "execution_count": 49,
   "id": "8597c006",
   "metadata": {},
   "outputs": [
    {
     "data": {
      "text/plain": [
       "DecisionTreeRegressor()"
      ]
     },
     "execution_count": 49,
     "metadata": {},
     "output_type": "execute_result"
    }
   ],
   "source": [
    "dt.fit(X_train,y_train)"
   ]
  },
  {
   "cell_type": "code",
   "execution_count": 50,
   "id": "23e4ce71",
   "metadata": {},
   "outputs": [],
   "source": [
    "pred= dt.predict(X_test)"
   ]
  },
  {
   "cell_type": "code",
   "execution_count": 51,
   "id": "77d0cef2",
   "metadata": {},
   "outputs": [
    {
     "data": {
      "text/plain": [
       "0.876752572261457"
      ]
     },
     "execution_count": 51,
     "metadata": {},
     "output_type": "execute_result"
    }
   ],
   "source": [
    "r2_score(pred, y_test)"
   ]
  },
  {
   "cell_type": "code",
   "execution_count": 52,
   "id": "aa6237e5",
   "metadata": {},
   "outputs": [
    {
     "name": "stdout",
     "output_type": "stream",
     "text": [
      "95848.99487864078\n"
     ]
    }
   ],
   "source": [
    "print(mean_squared_error(pred, y_test))"
   ]
  },
  {
   "cell_type": "code",
   "execution_count": 53,
   "id": "e17c355d",
   "metadata": {},
   "outputs": [],
   "source": [
    "from sklearn.ensemble import RandomForestRegressor\n",
    "rf= RandomForestRegressor()"
   ]
  },
  {
   "cell_type": "code",
   "execution_count": 54,
   "id": "cec3caa8",
   "metadata": {},
   "outputs": [
    {
     "data": {
      "text/plain": [
       "RandomForestRegressor()"
      ]
     },
     "execution_count": 54,
     "metadata": {},
     "output_type": "execute_result"
    }
   ],
   "source": [
    "rf.fit(X_train,y_train)"
   ]
  },
  {
   "cell_type": "code",
   "execution_count": 55,
   "id": "dae7d6c4",
   "metadata": {},
   "outputs": [],
   "source": [
    "pred= rf.predict(X_test)"
   ]
  },
  {
   "cell_type": "code",
   "execution_count": 56,
   "id": "f46fcbe7",
   "metadata": {},
   "outputs": [
    {
     "data": {
      "text/plain": [
       "0.9390561203909472"
      ]
     },
     "execution_count": 56,
     "metadata": {},
     "output_type": "execute_result"
    }
   ],
   "source": [
    "r2_score(pred, y_test)"
   ]
  },
  {
   "cell_type": "code",
   "execution_count": 57,
   "id": "d4815fcc",
   "metadata": {},
   "outputs": [
    {
     "name": "stdout",
     "output_type": "stream",
     "text": [
      "44003.20370685435\n"
     ]
    }
   ],
   "source": [
    "print(mean_squared_error(pred, y_test))"
   ]
  },
  {
   "cell_type": "code",
   "execution_count": null,
   "id": "4f0f4fbe",
   "metadata": {},
   "outputs": [],
   "source": []
  }
 ],
 "metadata": {
  "kernelspec": {
   "display_name": "Python 3",
   "language": "python",
   "name": "python3"
  },
  "language_info": {
   "codemirror_mode": {
    "name": "ipython",
    "version": 3
   },
   "file_extension": ".py",
   "mimetype": "text/x-python",
   "name": "python",
   "nbconvert_exporter": "python",
   "pygments_lexer": "ipython3",
   "version": "3.6.8"
  }
 },
 "nbformat": 4,
 "nbformat_minor": 5
}
